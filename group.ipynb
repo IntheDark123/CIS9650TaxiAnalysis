{
 "cells": [
  {
   "cell_type": "code",
   "execution_count": 2,
   "metadata": {},
   "outputs": [
    {
     "name": "stderr",
     "output_type": "stream",
     "text": [
      "C:\\ProgramData\\Anaconda3\\lib\\site-packages\\IPython\\core\\interactiveshell.py:3146: DtypeWarning: Columns (46) have mixed types.Specify dtype option on import or set low_memory=False.\n",
      "  has_raised = await self.run_ast_nodes(code_ast.body, cell_name,\n"
     ]
    }
   ],
   "source": [
    "import pandas as pd\n",
    "import matplotlib.pyplot as plt\n",
    "df = pd.read_csv(\"nyccleaned.csv\")"
   ]
  },
  {
   "cell_type": "code",
   "execution_count": 3,
   "metadata": {},
   "outputs": [
    {
     "name": "stdout",
     "output_type": "stream",
     "text": [
      "               trip_distance  total_amount\n",
      "PickupBorough                             \n",
      "Bronx               5.081919     23.517741\n",
      "Brooklyn            3.775676     23.917414\n",
      "EWR                 2.630870     67.766522\n",
      "Manhattan           2.408330     15.202988\n",
      "Queens              8.747949     35.124970\n",
      "Staten Island      16.969837     60.028211\n",
      "Unknown             5.321172     20.611263\n"
     ]
    },
    {
     "name": "stderr",
     "output_type": "stream",
     "text": [
      "<ipython-input-3-6e6553b4cb5f>:2: FutureWarning: Indexing with multiple keys (implicitly converted to a tuple of keys) will be deprecated, use a list instead.\n",
      "  TDTM = df.groupby(\"PickupBorough\")[\"trip_distance\" , \"total_amount\"].mean()\n"
     ]
    }
   ],
   "source": [
    "#df[\"PBD\"] = df.apply(lambda x:x[\"trip_distance\"] / x[\"total_amount\"], axis = 1)\n",
    "TDTM = df.groupby(\"PickupBorough\")[\"trip_distance\" , \"total_amount\"].mean()\n",
    "\n",
    "print(TDTM)"
   ]
  },
  {
   "cell_type": "code",
   "execution_count": 4,
   "metadata": {},
   "outputs": [
    {
     "name": "stdout",
     "output_type": "stream",
     "text": [
      "PickupBorough\n",
      "Bronx             4.627728\n",
      "Brooklyn          6.334604\n",
      "EWR              25.758222\n",
      "Manhattan         6.312667\n",
      "Queens            4.015224\n",
      "Staten Island     3.537347\n",
      "Unknown           3.873444\n",
      "Name: PBD, dtype: float64\n"
     ]
    },
    {
     "data": {
      "image/png": "[encoded data removed]",
      "text/plain": [
       "<Figure size 432x288 with 1 Axes>"
      ]
     },
     "metadata": {
      "needs_background": "light"
     },
     "output_type": "display_data"
    }
   ],
   "source": [
    "# amount per mile\n",
    "TDTM[\"PBD\"] = TDTM.apply(lambda x:x[\"total_amount\"] / x[\"trip_distance\"], axis = 1)\n",
    "print(TDTM[\"PBD\"])\n",
    "\n",
    "plt.plot(TDTM[\"PBD\"])\n",
    "plt.show()"
   ]
  },
  {
   "cell_type": "code",
   "execution_count": 5,
   "metadata": {},
   "outputs": [],
   "source": [
    "df = df[(df[\"PickupBorough\"] != \"Unknown\")]\n",
    "df = df[(df[\"PickupBorough\"] != \"EWR\")]\n",
    "df = df[(df[\"payment_type\"] != 3)]\n",
    "df = df[(df[\"payment_type\"] != 4)]\n",
    "df = df[(df[\"payment_type\"] != 5)]\n",
    "df = df[(df[\"payment_type\"] != 6)]"
   ]
  },
  {
   "cell_type": "code",
   "execution_count": 13,
   "metadata": {},
   "outputs": [],
   "source": [
    "\n",
    "Manhattan = df[(df[\"PickupBorough\"] == \"Manhattan\") & (df[\"DropoffBorough\"] == \"Manhattan\")]\n",
    "Bronx=df[(df[\"PickupBorough\"]==\"Bronx\")&(df[\"DropoffBorough\"]==\"Bronx\")]\n",
    "Queens=df[(df[\"PickupBorough\"]==\"Queens\")&(df[\"DropoffBorough\"]==\"Queens\")]\n",
    "Brooklyn=df[(df[\"PickupBorough\"]==\"Brooklyn\")&(df[\"DropoffBorough\"]==\"Brooklyn\")]\n",
    "Staten_Island=df[(df[\"PickupBorough\"]==\"Staten Island\")&(df[\"DropoffBorough\"]==\"Staten Island\")]\n"
   ]
  },
  {
   "cell_type": "code",
   "execution_count": 12,
   "metadata": {},
   "outputs": [
    {
     "name": "stdout",
     "output_type": "stream",
     "text": [
      "Manhattan:\n",
      "payment_type  PickupZone                   \n",
      "2             East Harlem North                0.606004\n",
      "              Central Harlem North             0.605387\n",
      "              Highbridge Park                  0.600000\n",
      "              Manhattanville                   0.574264\n",
      "              Hamilton Heights                 0.569968\n",
      "                                                 ...   \n",
      "              Meatpacking/West Village West    0.273063\n",
      "              Financial District North         0.261047\n",
      "              Randalls Island                  0.257143\n",
      "              Battery Park City                0.235627\n",
      "              Inwood Hill Park                 0.200000\n",
      "Name: trip_distance, Length: 66, dtype: float64\n"
     ]
    }
   ],
   "source": [
    "# Manhattan Data\n",
    "Mcash = Manhattan[(Manhattan[\"payment_type\"] == 2)]\n",
    "# count cash payment for Manhattan\n",
    "CS = Mcash.groupby([\"payment_type\", \"PickupZone\"])[\"trip_distance\"].count()\n",
    "# count total payment for Manhattan\n",
    "tt = Manhattan.groupby([\"PickupZone\"])[\"trip_distance\"].count()\n",
    "# % of payment use by cash\n",
    "pct = CS / tt\n",
    "top = pct.sort_values(ascending=False)\n",
    "print(\"Manhattan:\")\n",
    "print(top)"
   ]
  },
  {
   "cell_type": "code",
   "execution_count": 11,
   "metadata": {},
   "outputs": [
    {
     "name": "stdout",
     "output_type": "stream",
     "text": [
      "Bronx:\n",
      "payment_type  PickupZone                         \n",
      "2             Fordham South                          0.807018\n",
      "              Mott Haven/Port Morris                 0.712150\n",
      "              Bronx Park                             0.700000\n",
      "              Melrose South                          0.692308\n",
      "              West Concourse                         0.680251\n",
      "              Bedford Park                           0.676768\n",
      "              Highbridge                             0.655629\n",
      "              East Concourse/Concourse Village       0.621875\n",
      "              Morrisania/Melrose                     0.616766\n",
      "              Mount Hope                             0.608696\n",
      "              Belmont                                0.600000\n",
      "              Van Cortlandt Village                  0.596491\n",
      "              Williamsbridge/Olinville               0.590361\n",
      "              Pelham Bay Park                        0.578947\n",
      "              East Tremont                           0.575472\n",
      "              Claremont/Bathgate                     0.573333\n",
      "              Norwood                                0.570248\n",
      "              Hunts Point                            0.565789\n",
      "              Crotona Park East                      0.540984\n",
      "              Longwood                               0.532258\n",
      "              Westchester Village/Unionport          0.511628\n",
      "              Eastchester                            0.511628\n",
      "              Soundview/Bruckner                     0.492063\n",
      "              West Farms/Bronx River                 0.490566\n",
      "              University Heights/Morris Heights      0.470588\n",
      "              Allerton/Pelham Gardens                0.433333\n",
      "              Spuyten Duyvil/Kingsbridge             0.430233\n",
      "              Riverdale/North Riverdale/Fieldston    0.428571\n",
      "              Bronxdale                              0.408163\n",
      "              Pelham Parkway                         0.407767\n",
      "              Parkchester                            0.396825\n",
      "              Woodlawn/Wakefield                     0.392857\n",
      "              Kingsbridge Heights                    0.387931\n",
      "              Soundview/Castle Hill                  0.381579\n",
      "              Van Nest/Morris Park                   0.346405\n",
      "              Van Cortlandt Park                     0.333333\n",
      "              Co-Op City                             0.307692\n",
      "              City Island                            0.250000\n",
      "              Country Club                           0.200000\n",
      "              Pelham Bay                             0.166667\n",
      "              Schuylerville/Edgewater Park           0.153846\n",
      "Name: trip_distance, dtype: float64\n"
     ]
    }
   ],
   "source": [
    "# same for bronx\n",
    "Bxcash = Bronx[(Bronx[\"payment_type\"] == 2)]\n",
    "BCS = Bxcash.groupby([\"payment_type\", \"PickupZone\"])[\"trip_distance\"].count()\n",
    "btt = Bronx.groupby([\"PickupZone\"])[\"trip_distance\"].count()\n",
    "bxpct = BCS / btt\n",
    "BXtop = bxpct.sort_values(ascending=False)\n",
    "print(\"Bronx:\")\n",
    "print(BXtop)"
   ]
  },
  {
   "cell_type": "code",
   "execution_count": 10,
   "metadata": {},
   "outputs": [
    {
     "name": "stdout",
     "output_type": "stream",
     "text": [
      "Queens:\n",
      "payment_type  PickupZone                      \n",
      "2             Forest Park/Highland Park           1.000000\n",
      "              Saint Michaels Cemetery/Woodside    0.941176\n",
      "              Long Island City/Hunters Point      0.896220\n",
      "              Woodside                            0.803235\n",
      "              Astoria Park                        0.750000\n",
      "                                                    ...   \n",
      "              Ridgewood                           0.121951\n",
      "              Hammels/Arverne                     0.106061\n",
      "              Bay Terrace/Fort Totten             0.090909\n",
      "              Auburndale                          0.090909\n",
      "              Glendale                            0.066667\n",
      "Name: trip_distance, Length: 64, dtype: float64\n"
     ]
    }
   ],
   "source": [
    "# same for queens\n",
    "Qcash = Queens[(Queens[\"payment_type\"] == 2)]\n",
    "QCS = Qcash.groupby([\"payment_type\", \"PickupZone\"])[\"trip_distance\"].count()\n",
    "qtt = Queens.groupby([\"PickupZone\"])[\"trip_distance\"].count()\n",
    "qpct = QCS / qtt\n",
    "Qtop = qpct.sort_values(ascending=False)\n",
    "print(\"Queens:\")\n",
    "print(Qtop)"
   ]
  },
  {
   "cell_type": "code",
   "execution_count": 9,
   "metadata": {},
   "outputs": [
    {
     "name": "stdout",
     "output_type": "stream",
     "text": [
      "Brooklyn:\n",
      "payment_type  PickupZone                       \n",
      "2             Marine Park/Floyd Bennett Field      0.666667\n",
      "              Brighton Beach                       0.650000\n",
      "              Manhattan Beach                      0.592593\n",
      "              Carroll Gardens                      0.588889\n",
      "              Williamsburg (South Side)            0.568000\n",
      "              Fort Greene                          0.538647\n",
      "              Greenpoint                           0.523256\n",
      "              Bushwick South                       0.506383\n",
      "              Ocean Parkway South                  0.500000\n",
      "              Clinton Hill                         0.495327\n",
      "              South Williamsburg                   0.492754\n",
      "              East Williamsburg                    0.491379\n",
      "              Bedford                              0.491289\n",
      "              Boerum Hill                          0.485660\n",
      "              Prospect-Lefferts Gardens            0.443503\n",
      "              Brooklyn Heights                     0.443425\n",
      "              Erasmus                              0.441176\n",
      "              Gowanus                              0.440000\n",
      "              Prospect Heights                     0.419118\n",
      "              DUMBO/Vinegar Hill                   0.412500\n",
      "              Brooklyn Navy Yard                   0.400000\n",
      "              Cobble Hill                          0.398230\n",
      "              Crown Heights North                  0.394004\n",
      "              Park Slope                           0.393281\n",
      "              Flatbush/Ditmas Park                 0.388393\n",
      "              Downtown Brooklyn/MetroTech          0.386792\n",
      "              Prospect Park                        0.384615\n",
      "              Dyker Heights                        0.380952\n",
      "              East New York/Pennsylvania Avenue    0.371429\n",
      "              Bay Ridge                            0.369128\n",
      "              Brownsville                          0.368159\n",
      "              Windsor Terrace                      0.361111\n",
      "              Stuyvesant Heights                   0.355191\n",
      "              Crown Heights South                  0.346939\n",
      "              Bensonhurst East                     0.333333\n",
      "              Williamsburg (North Side)            0.329670\n",
      "              Ocean Hill                           0.326087\n",
      "              Bath Beach                           0.307692\n",
      "              East Flatbush/Remsen Village         0.303704\n",
      "              East Flatbush/Farragut               0.294118\n",
      "              Columbia Street                      0.285714\n",
      "              Sunset Park West                     0.285714\n",
      "              East New York                        0.284047\n",
      "              Red Hook                             0.273973\n",
      "              Coney Island                         0.271186\n",
      "              Borough Park                         0.250000\n",
      "              Madison                              0.228571\n",
      "              Sheepshead Bay                       0.225806\n",
      "              Flatlands                            0.224299\n",
      "              Gravesend                            0.217391\n",
      "              Bensonhurst West                     0.205479\n",
      "              Bushwick North                       0.193548\n",
      "              Cypress Hills                        0.191489\n",
      "              Canarsie                             0.188889\n",
      "              Marine Park/Mill Basin               0.188406\n",
      "              Midwood                              0.156863\n",
      "              Kensington                           0.145631\n",
      "              Sunset Park East                     0.132353\n",
      "              Homecrest                            0.120000\n",
      "              Starrett City                        0.078947\n",
      "Name: trip_distance, dtype: float64\n"
     ]
    }
   ],
   "source": [
    "Bkcash = Brooklyn[(Brooklyn[\"payment_type\"] == 2)]\n",
    "BKCS = Bkcash.groupby([\"payment_type\", \"PickupZone\"])[\"trip_distance\"].count()\n",
    "bktt = Brooklyn.groupby([\"PickupZone\"])[\"trip_distance\"].count()\n",
    "bkpct = BKCS / bktt\n",
    "BKtop = bkpct.sort_values(ascending=False)\n",
    "print(\"Brooklyn:\")\n",
    "print(BKtop)"
   ]
  },
  {
   "cell_type": "code",
   "execution_count": 7,
   "metadata": {},
   "outputs": [
    {
     "name": "stdout",
     "output_type": "stream",
     "text": [
      "Staten_Island\n",
      "payment_type  PickupZone                 \n",
      "2             West Brighton                  1.000000\n",
      "              Stapleton                      1.000000\n",
      "              South Beach/Dongan Hills       1.000000\n",
      "              Oakwood                        1.000000\n",
      "              Heartland Village/Todt Hill    1.000000\n",
      "              Great Kills                    1.000000\n",
      "              Westerleigh                    0.800000\n",
      "              Arrochar/Fort Wadsworth        0.500000\n",
      "              Charleston/Tottenville         0.470588\n",
      "              New Dorp/Midland Beach         0.375000\n",
      "              Bloomfield/Emerson Hill        0.357143\n",
      "              Grymes Hill/Clifton            0.285714\n",
      "              Mariners Harbor                0.200000\n",
      "Name: trip_distance, dtype: float64\n"
     ]
    }
   ],
   "source": [
    "\n",
    "Scash = Staten_Island[(Staten_Island[\"payment_type\"] == 2)]\n",
    "SCS = Scash.groupby([\"payment_type\", \"PickupZone\"])[\"trip_distance\"].count()\n",
    "stt = Staten_Island.groupby([\"PickupZone\"])[\"trip_distance\"].count()\n",
    "spct = SCS / stt\n",
    "Stop = spct.sort_values(ascending=False)\n",
    "print(\"Staten_Island\")\n",
    "print(Stop)\n"
   ]
  },
  {
   "cell_type": "code",
   "execution_count": null,
   "metadata": {},
   "outputs": [],
   "source": []
  }
 ],
 "metadata": {
  "kernelspec": {
   "display_name": "Python 3",
   "language": "python",
   "name": "python3"
  },
  "language_info": {
   "codemirror_mode": {
    "name": "ipython",
    "version": 3
   },
   "file_extension": ".py",
   "mimetype": "text/x-python",
   "name": "python",
   "nbconvert_exporter": "python",
   "pygments_lexer": "ipython3",
   "version": "3.8.5"
  }
 },
 "nbformat": 4,
 "nbformat_minor": 4
}
